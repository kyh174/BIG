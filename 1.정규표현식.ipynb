{
 "cells": [
  {
   "attachments": {},
   "cell_type": "markdown",
   "metadata": {},
   "source": [
    "## 정규 표현식\n",
    "- 복잡한 문자열을 처리에 사용\n",
    "- 파이썬뿐만 아니라 대부분의 현대 프로그래밍 언어에서 쓰이는 DSL(Domain Specific Language)\n",
    "- 특정 문자열을 찾고 싶을 때 또는 특정 문자열을 대체하고 싶을 때 사용\n",
    "\n",
    "\n",
    "## 메타문자\n",
    "<img src=\"./img.png\">"
   ]
  },
  {
   "attachments": {},
   "cell_type": "markdown",
   "metadata": {},
   "source": [
    "## 사용 법\n",
    "\n",
    "#### 컴파일 후 매칭"
   ]
  },
  {
   "cell_type": "code",
   "execution_count": 2,
   "metadata": {},
   "outputs": [],
   "source": [
    "import re\n",
    "\n",
    "# 패턴 객체를 반환\n",
    "pattern = re.compile(\"apple\")\n",
    "# 패턴 객체의 검색 메서드로 검색 수행\n",
    "x = pattern.search(\"I like apple!\")"
   ]
  },
  {
   "attachments": {},
   "cell_type": "markdown",
   "metadata": {},
   "source": [
    "#### 축약"
   ]
  },
  {
   "cell_type": "code",
   "execution_count": 3,
   "metadata": {},
   "outputs": [],
   "source": [
    "x = re.search(\"apple\", \"I like apple!\")"
   ]
  },
  {
   "attachments": {},
   "cell_type": "markdown",
   "metadata": {},
   "source": [
    "#### match"
   ]
  },
  {
   "cell_type": "code",
   "execution_count": 1,
   "metadata": {},
   "outputs": [
    {
     "name": "stdout",
     "output_type": "stream",
     "text": [
      "abc\n"
     ]
    }
   ],
   "source": [
    "import re\n",
    "s = 'abc1234'\n",
    "m = re.match('abc', s)\n",
    "print(m.group())"
   ]
  },
  {
   "attachments": {},
   "cell_type": "markdown",
   "metadata": {},
   "source": [
    "#### search"
   ]
  },
  {
   "cell_type": "code",
   "execution_count": 4,
   "metadata": {},
   "outputs": [
    {
     "name": "stdout",
     "output_type": "stream",
     "text": [
      "<re.Match object; span=(3, 7), match='def1'>\n",
      "def1\n"
     ]
    }
   ],
   "source": [
    "import re\n",
    "s = '521def1234'\n",
    "m = re.search('[a-f]{2,3}\\d', s)\n",
    "print(m)\n",
    "print(m.group())"
   ]
  },
  {
   "attachments": {},
   "cell_type": "markdown",
   "metadata": {},
   "source": [
    "#### findall"
   ]
  },
  {
   "cell_type": "code",
   "execution_count": 5,
   "metadata": {},
   "outputs": [
    {
     "name": "stdout",
     "output_type": "stream",
     "text": [
      "['hello', 'world']\n"
     ]
    }
   ],
   "source": [
    "import re\n",
    "s = 'hello-world-1234-안녕하세요'\n",
    "m = re.findall('[a-zA-Z]+', s)\n",
    "print(m)"
   ]
  }
 ],
 "metadata": {
  "kernelspec": {
   "display_name": "base",
   "language": "python",
   "name": "python3"
  },
  "language_info": {
   "codemirror_mode": {
    "name": "ipython",
    "version": 3
   },
   "file_extension": ".py",
   "mimetype": "text/x-python",
   "name": "python",
   "nbconvert_exporter": "python",
   "pygments_lexer": "ipython3",
   "version": "3.9.13"
  },
  "orig_nbformat": 4
 },
 "nbformat": 4,
 "nbformat_minor": 2
}
