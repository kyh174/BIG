{
 "cells": [
  {
   "attachments": {},
   "cell_type": "markdown",
   "metadata": {},
   "source": [
    "## 가비지 컬렉션\n",
    "- GC는 메모리를 자동으로 관리\n",
    "- 사람이 직접 하는 것 보다는 최적화가 덜 되어있음\n",
    "- Gabage Collection이 쓸모없어진 객체들을 잘 해제할수 있도록 레퍼런스 카운트에 신경을 써주어야 함\n",
    "- 특히, 순환참조의 경우는 프로그램이 종료될때까지 메모리에 남아 있게 되므로 특히 주의"
   ]
  },
  {
   "attachments": {},
   "cell_type": "markdown",
   "metadata": {},
   "source": [
    "#### 객체 지우기"
   ]
  },
  {
   "cell_type": "code",
   "execution_count": 2,
   "metadata": {},
   "outputs": [
    {
     "name": "stdout",
     "output_type": "stream",
     "text": [
      "deleted\n"
     ]
    }
   ],
   "source": [
    "class A:\n",
    "    def __del__(self):\n",
    "        print(\"deleted\")\n",
    "\n",
    "a = A()\n",
    "del(a)"
   ]
  },
  {
   "attachments": {},
   "cell_type": "markdown",
   "metadata": {},
   "source": [
    "#### 참조중인 객체 del 실행\n",
    "- 이전과는 다르게 delete라는 메시지를 출력하지 않음\n",
    "- 즉, a라는 객체가 메모리에서 지워지지 않았다는 얘기\n",
    "- b라는 변수에서 a를 참조중이기 때문\n",
    "- 메모리 누수가 발생할 수 있음"
   ]
  },
  {
   "cell_type": "code",
   "execution_count": 6,
   "metadata": {},
   "outputs": [],
   "source": [
    "class A:\n",
    "    def __del__(self):\n",
    "        print(\"deleted\")\n",
    "\n",
    "a = A()\n",
    "b = a\n",
    "\n",
    "del(a)"
   ]
  },
  {
   "attachments": {},
   "cell_type": "markdown",
   "metadata": {},
   "source": [
    "####  참조된 횟수 확인 ( 레퍼런스 카운트 )"
   ]
  },
  {
   "cell_type": "code",
   "execution_count": 5,
   "metadata": {},
   "outputs": [
    {
     "name": "stdout",
     "output_type": "stream",
     "text": [
      "3\n"
     ]
    }
   ],
   "source": [
    "import sys\n",
    "\n",
    "class A:\n",
    "    pass\n",
    "\n",
    "a = A()\n",
    "b = a\n",
    "\n",
    "print(sys.getrefcount(a))\n"
   ]
  },
  {
   "attachments": {},
   "cell_type": "markdown",
   "metadata": {},
   "source": [
    "#### 오브젝트가 현재 참조중인 목록 확인"
   ]
  },
  {
   "cell_type": "code",
   "execution_count": 7,
   "metadata": {},
   "outputs": [
    {
     "name": "stdout",
     "output_type": "stream",
     "text": [
      "[{'obj': <__main__.test.<locals>.A object at 0x7fa9d0c625e0>}, <class '__main__.test.<locals>.B'>]\n"
     ]
    }
   ],
   "source": [
    "import gc\n",
    "\n",
    "def test():\n",
    "    class A:\n",
    "        pass\n",
    "\n",
    "    class B:\n",
    "        def __init__(self, obj): \n",
    "            self.obj = obj\n",
    "\n",
    "    a = A()\n",
    "    b = B(a)\n",
    "\n",
    "    gc.collect() # make sure all garbage cleared before collecting referrers.    \n",
    "    print( gc.get_referents(b))\n",
    "\n",
    "test()"
   ]
  },
  {
   "attachments": {},
   "cell_type": "markdown",
   "metadata": {},
   "source": [
    "####  오브젝트를 참조중인 목록 확인"
   ]
  },
  {
   "cell_type": "code",
   "execution_count": 8,
   "metadata": {},
   "outputs": [
    {
     "name": "stdout",
     "output_type": "stream",
     "text": [
      "[{'obj': <__main__.test.<locals>.A object at 0x7faa10ee8580>}]\n"
     ]
    }
   ],
   "source": [
    "import gc\n",
    "\n",
    "def test():\n",
    "    class A:\n",
    "        pass\n",
    "\n",
    "    class B:\n",
    "        def __init__(self, obj): \n",
    "            self.obj = obj\n",
    "\n",
    "    a = A()\n",
    "    b = B(a)\n",
    "\n",
    "    gc.collect() # make sure all garbage cleared before collecting referrers.    \n",
    "    print( gc.get_referrers(a) )\n",
    "\n",
    "test()"
   ]
  },
  {
   "attachments": {},
   "cell_type": "markdown",
   "metadata": {},
   "source": [
    "#### 현재 자신을 참조중인 오브젝트를 찾아내어 강제로 자신을 지우기"
   ]
  },
  {
   "cell_type": "code",
   "execution_count": 10,
   "metadata": {},
   "outputs": [
    {
     "name": "stdout",
     "output_type": "stream",
     "text": [
      "before :  {'obj': <__main__.test.<locals>.A object at 0x7faa10be5670>}\n",
      "after :  {'obj': None}\n",
      "ref count :  2\n",
      "ref count :  2\n",
      "deleted\n"
     ]
    }
   ],
   "source": [
    "import sys, gc\n",
    "\n",
    "def delete_me(obj):\n",
    "    referrers = gc.get_referrers(obj)\n",
    "    for referrer in referrers:\n",
    "        if type(referrer) == dict:\n",
    "            for key, value in referrer.items():\n",
    "                if value is obj:\n",
    "                    referrer[key] = None\n",
    "\n",
    "def test():            \n",
    "    class A:\n",
    "        def __del__(self):\n",
    "                print(\"deleted\")\n",
    "\n",
    "    class B:\n",
    "        def __init__(self, obj): \n",
    "            self.obj = obj\n",
    "\n",
    "    a = A()\n",
    "    b = B(a)\n",
    "\n",
    "    print(\"before : \", b.__dict__)\n",
    "    delete_me(a)\n",
    "    print(\"after : \", b.__dict__)\n",
    "    print(\"ref count : \", sys.getrefcount(a))\n",
    "    gc.collect()\n",
    "    print(\"ref count : \", sys.getrefcount(a))\n",
    "    del(a)\n",
    "\n",
    "test()"
   ]
  }
 ],
 "metadata": {
  "kernelspec": {
   "display_name": "base",
   "language": "python",
   "name": "python3"
  },
  "language_info": {
   "codemirror_mode": {
    "name": "ipython",
    "version": 3
   },
   "file_extension": ".py",
   "mimetype": "text/x-python",
   "name": "python",
   "nbconvert_exporter": "python",
   "pygments_lexer": "ipython3",
   "version": "3.9.13"
  },
  "orig_nbformat": 4
 },
 "nbformat": 4,
 "nbformat_minor": 2
}
